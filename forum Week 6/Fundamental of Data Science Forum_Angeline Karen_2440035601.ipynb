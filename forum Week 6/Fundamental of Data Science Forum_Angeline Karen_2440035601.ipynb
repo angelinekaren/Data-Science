{
 "cells": [
  {
   "cell_type": "markdown",
   "metadata": {},
   "source": [
    "# <center>Week 6 Forum</center>\n",
    "<center>Angeline Karen - 2440035601</center>"
   ]
  },
  {
   "cell_type": "code",
   "execution_count": 316,
   "metadata": {},
   "outputs": [],
   "source": [
    "import pandas as pd\n",
    "import matplotlib.pyplot as plt\n",
    "from sklearn import datasets\n",
    "from sklearn.svm import SVC\n",
    "import numpy as np\n",
    "from sklearn.metrics import accuracy_score\n",
    "from sklearn.model_selection import train_test_split\n",
    "from sklearn.tree import DecisionTreeClassifier"
   ]
  },
  {
   "cell_type": "code",
   "execution_count": 317,
   "metadata": {},
   "outputs": [
    {
     "name": "stdout",
     "output_type": "stream",
     "text": [
      "True value: [1 0 2 1 1 0 1 2 1 1 2 0 0 0 0 1 2 1 1 2 0 2 0 2 2 2 2 2 0 0 0 0 1 0 0 2 1\n",
      " 0]\n",
      "Prediction:  [1 0 2 1 1 0 1 2 2 1 2 0 0 0 0 1 2 1 1 2 0 2 0 2 2 2 2 2 0 0 0 0 1 0 0 2 1\n",
      " 0]\n"
     ]
    },
    {
     "data": {
      "image/png": "[encoded data removed]",
      "text/plain": [
       "<Figure size 432x288 with 1 Axes>"
      ]
     },
     "metadata": {
      "needs_background": "light"
     },
     "output_type": "display_data"
    },
    {
     "name": "stdout",
     "output_type": "stream",
     "text": [
      "The accuracy score is 0.9736842105263158\n"
     ]
    }
   ],
   "source": [
    "# Load iris dataset\n",
    "iris = datasets.load_iris()\n",
    "\n",
    "# Create DataFrame\n",
    "df = pd.DataFrame(data=iris.data)\n",
    "\n",
    "# .target (target data/the variable we want to predict, in this case are Iris-Setosa, Iris-Versicolour, Iris-Virginica)\n",
    "# Add 'label' column, and store it with the target data\n",
    "df[\"label\"] = iris.target\n",
    "\n",
    "# x: all rows from column \"sepal length\" & \"petal length\"\n",
    "x = df.iloc[:, [1, 3]]\n",
    "\n",
    "# y: target data\n",
    "y = df[\"label\"]\n",
    "\n",
    "# Use the train_test split function from sklearn to \n",
    "# split the data arrays into two subsets: for training and testing data using \n",
    "x_train, x_test, y_train, y_test = train_test_split(x, y, random_state=42)\n",
    "\n",
    "# Create a SVM Classifier\n",
    "svm = SVC(kernel='rbf', random_state=1, gamma=0.1, C=10)\n",
    "\n",
    "# Fit the SVM model to the input training data\n",
    "svm.fit(x_train, y_train)\n",
    "\n",
    "# Predict the response variable in the test dataset\n",
    "y_pred = svm.predict(x_test)\n",
    "\n",
    "print(\"True value:\", y_test.ravel())\n",
    "print(\"Prediction: \", y_pred.ravel())\n",
    "\n",
    "# Graph to plot and compare the result of the prediction and the true value\n",
    "plt.scatter(y_test, y_pred)\n",
    "plt.xlabel('True value')\n",
    "plt.ylabel('Prediction')\n",
    "plt.title(\"True value vs Prediction\")\n",
    "plt.show()\n",
    "\n",
    "# Accuracy score\n",
    "print(\"The accuracy score is\", accuracy_score(y_test, y_pred))"
   ]
  },
  {
   "cell_type": "markdown",
   "metadata": {},
   "source": [
    "The accuracy score is approximately 97%, which can be stated as an accurate model as it has a good accuracy. Here, I experiment and found that the random_state in train_test_split() function is important. Before I add and specify the random_state in train_test_split(), the accuracy score differs everytime I run. I found that random_state will gurantee the same sequence of random numbers generated everytime I run. If we don't use it, everytime we want to split our datasets, it might get a different set of train and test data points. I also tried to change the random_state in my classifier, though I didn't see any specific change or affect to the model's accuracy score. Moreover, I tried lowering the gamma value in my svm classifier, though it caused the model to overfitting."
   ]
  },
  {
   "cell_type": "code",
   "execution_count": 318,
   "metadata": {},
   "outputs": [
    {
     "name": "stdout",
     "output_type": "stream",
     "text": [
      "   id         age  income student credit_rating Buy_Computer\n",
      "0   1       youth    high      no          fair           no\n",
      "1   2       youth    high      no     excellent           no\n",
      "2   3  middle_age    high      no          fair          yes\n",
      "3   4      senior  medium      no          fair          yes\n",
      "4   5      senior     low     yes          fair          yes\n",
      "True value: ['yes' 'no' 'yes' 'yes' 'yes']\n",
      "Prediction:  ['no' 'no' 'yes' 'yes' 'yes']\n",
      "The accuracy score is 0.8\n"
     ]
    }
   ],
   "source": [
    "# Load the dataset\n",
    "df = pd.read_csv(\"./forum/Buy_Computer.csv\")\n",
    "\n",
    "print(df.head())\n",
    "\n",
    "# The data column we're  going to train and test\n",
    "features = [\"age\", \"income\", \"student\", \"credit_rating\"]\n",
    "\n",
    "# x: features\n",
    "x = df[features]\n",
    "# y: target data\n",
    "y = df[\"Buy_Computer\"]\n",
    "\n",
    "# get_dummies(): converts categorical data into dummy variables (binary variables)\n",
    "x = pd.get_dummies(x)\n",
    "\n",
    "# Use the train_test split function from sklearn to \n",
    "# split the data arrays into two subsets: for training and testing data using \n",
    "# Here, I specify and split training data to 80% and test data to 30%\n",
    "x_train, x_test, y_train, y_test = train_test_split(x, y, test_size=0.3, random_state=10)\n",
    "\n",
    "# Create Decision Tree Classifer object\n",
    "dtcModel = DecisionTreeClassifier(criterion=\"entropy\")\n",
    "\n",
    "# Fit the model to the input training data\n",
    "dtcModel.fit(x_train, y_train)\n",
    "\n",
    "# Predict the response variable in the test dataset\n",
    "y_pred = dtcModel.predict(x_test)\n",
    "\n",
    "print(\"True value:\", y_test.ravel())\n",
    "print(\"Prediction: \", y_pred.ravel())\n",
    "\n",
    "# Accuracy score\n",
    "print(\"The accuracy score is\" ,accuracy_score(y_test, y_pred))"
   ]
  },
  {
   "cell_type": "markdown",
   "metadata": {},
   "source": [
    "The accuracy score is 80%, which is considerate as good accuracy. However, since we only have small datasets, we don't have much information and our estimation cannot be that precise. To get the accuracy reaches 80%, I used 30% data for testing and a random_state of 10. I tried increasing the random_state and set the data for testing to 20%, though the accuracy reaches 1.0 which means the model is overfitting. If I used lower random_state than 10 with setting the data for testing to either 20% ir 30%, it produces an accuracy of around 30% to 40%. I also tried setting the random_state to 10 with the data use for testing is 20%, but the accuracy score is lower than 80% (around 66%). Hence, I believe the best accuracy for this model is 80%."
   ]
  },
  {
   "cell_type": "code",
   "execution_count": null,
   "metadata": {},
   "outputs": [],
   "source": []
  }
 ],
 "metadata": {
  "kernelspec": {
   "display_name": "Python 3",
   "language": "python",
   "name": "python3"
  },
  "language_info": {
   "codemirror_mode": {
    "name": "ipython",
    "version": 3
   },
   "file_extension": ".py",
   "mimetype": "text/x-python",
   "name": "python",
   "nbconvert_exporter": "python",
   "pygments_lexer": "ipython3",
   "version": "3.8.3"
  }
 },
 "nbformat": 4,
 "nbformat_minor": 4
}
